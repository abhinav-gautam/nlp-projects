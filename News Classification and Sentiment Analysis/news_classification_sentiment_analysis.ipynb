{
 "cells": [
  {
   "cell_type": "markdown",
   "metadata": {},
   "source": [
    "# News headlines - Classification and Sentiment Analysis"
   ]
  },
  {
   "cell_type": "markdown",
   "metadata": {},
   "source": [
    "## Classification"
   ]
  },
  {
   "cell_type": "code",
   "execution_count": 28,
   "metadata": {},
   "outputs": [],
   "source": [
    "import os\n",
    "import nltk\n",
    "from nltk.stem import WordNetLemmatizer\n",
    "import pandas as pd\n",
    "import numpy as np"
   ]
  },
  {
   "cell_type": "code",
   "execution_count": 41,
   "metadata": {},
   "outputs": [],
   "source": [
    "# Setting path for bbc data\n",
    "bbc_path = 'bbc/'\n",
    "categories = os.listdir(bbc_path)"
   ]
  },
  {
   "cell_type": "code",
   "execution_count": 54,
   "metadata": {},
   "outputs": [],
   "source": [
    "# News headlines from NDTV\n",
    "news = ['Boris Johnson Announces Full Lockdown In England Amid Rising Covid Cases',\n",
    "       \"'Don't Accuse Us Of Inexperience, We Are Global Company': Bharat Biotech\",\n",
    "       \"Saudi Arabia Lifts Blockade Of Qatar, Easing Years-Long Feud\",\n",
    "       \"'Minister Said Won't Repeal Law, Go To Supreme Court': Farmers After Meet\",\n",
    "       \"'New Year, New Opportunities': US Welcomes India At UN Security Council\"]"
   ]
  },
  {
   "cell_type": "code",
   "execution_count": 57,
   "metadata": {},
   "outputs": [],
   "source": [
    "# Extracting data from the text files and lemmatizing it\n",
    "wnl = WordNetLemmatizer()\n",
    "X = np.array([])\n",
    "y = []\n",
    "for category in categories:\n",
    "    files = os.listdir(bbc_path+category+'/')\n",
    "    for file in files:\n",
    "        f = open(bbc_path+category+'/'+file,'r')\n",
    "        data = f.read().replace('\\n',' ').lower()\n",
    "        data = ' '.join([wnl.lemmatize(words) for words in nltk.word_tokenize(data)])\n",
    "        X = np.append(X,data)\n",
    "        y.append(category)"
   ]
  },
  {
   "cell_type": "code",
   "execution_count": 58,
   "metadata": {},
   "outputs": [],
   "source": [
    "# Converting data to pandas series\n",
    "X = pd.Series(X)"
   ]
  },
  {
   "cell_type": "code",
   "execution_count": 45,
   "metadata": {},
   "outputs": [],
   "source": [
    "# Instantiating tokenizer\n",
    "from nltk import TreebankWordTokenizer\n",
    "tokenizer = TreebankWordTokenizer()"
   ]
  },
  {
   "cell_type": "code",
   "execution_count": 46,
   "metadata": {},
   "outputs": [],
   "source": [
    "# Instantiating model\n",
    "from sklearn.naive_bayes import MultinomialNB\n",
    "nb = MultinomialNB()"
   ]
  },
  {
   "cell_type": "code",
   "execution_count": 47,
   "metadata": {},
   "outputs": [],
   "source": [
    "# Instantiating Tf-idf vectorizer\n",
    "from sklearn.feature_extraction.text import TfidfVectorizer\n",
    "tfidf = TfidfVectorizer()"
   ]
  },
  {
   "cell_type": "code",
   "execution_count": 48,
   "metadata": {},
   "outputs": [
    {
     "data": {
      "text/plain": [
       "TfidfVectorizer(max_df=0.5, min_df=2, ngram_range=(1, 2), stop_words='english',\n",
       "                tokenizer=<bound method TreebankWordTokenizer.tokenize of <nltk.tokenize.treebank.TreebankWordTokenizer object at 0x000001AA945F2EC8>>)"
      ]
     },
     "execution_count": 48,
     "metadata": {},
     "output_type": "execute_result"
    }
   ],
   "source": [
    "# Setting tfidf vectorizer parameters\n",
    "tfidf.set_params(tokenizer=tokenizer.tokenize)\n",
    "tfidf.set_params(stop_words='english')\n",
    "tfidf.set_params(ngram_range=(1,2))\n",
    "tfidf.set_params(max_df=0.5)\n",
    "tfidf.set_params(min_df=2)"
   ]
  },
  {
   "cell_type": "code",
   "execution_count": 49,
   "metadata": {},
   "outputs": [],
   "source": [
    "# Transforming data\n",
    "X_transformed = tfidf.fit_transform(X)\n",
    "news_transformed = tfidf.transform(news)"
   ]
  },
  {
   "cell_type": "code",
   "execution_count": 50,
   "metadata": {},
   "outputs": [
    {
     "data": {
      "text/plain": [
       "MultinomialNB()"
      ]
     },
     "execution_count": 50,
     "metadata": {},
     "output_type": "execute_result"
    }
   ],
   "source": [
    "# Training the model\n",
    "nb.fit(X_transformed,y)"
   ]
  },
  {
   "cell_type": "code",
   "execution_count": 51,
   "metadata": {},
   "outputs": [],
   "source": [
    "# Making predictions\n",
    "pred = nb.predict(news_transformed)"
   ]
  },
  {
   "cell_type": "code",
   "execution_count": 56,
   "metadata": {},
   "outputs": [
    {
     "name": "stdout",
     "output_type": "stream",
     "text": [
      "Boris Johnson Announces Full Lockdown In England Amid Rising Covid Cases => sport\n",
      "'Don't Accuse Us Of Inexperience, We Are Global Company': Bharat Biotech => business\n",
      "Saudi Arabia Lifts Blockade Of Qatar, Easing Years-Long Feud => business\n",
      "'Minister Said Won't Repeal Law, Go To Supreme Court': Farmers After Meet => politics\n",
      "'New Year, New Opportunities': US Welcomes India At UN Security Council => business\n"
     ]
    }
   ],
   "source": [
    "# Printing predictions\n",
    "for i in range(len(news)):\n",
    "    print(news[i]+\" => \"+pred[i])"
   ]
  },
  {
   "cell_type": "markdown",
   "metadata": {},
   "source": [
    "## Sentiment Analysis"
   ]
  },
  {
   "cell_type": "code",
   "execution_count": 76,
   "metadata": {},
   "outputs": [],
   "source": [
    "import matplotlib.pyplot as plt\n",
    "import seaborn as sns"
   ]
  },
  {
   "cell_type": "code",
   "execution_count": 81,
   "metadata": {},
   "outputs": [],
   "source": [
    "# Sentiment analysis of 25 news items\n",
    "documents = X[:25]\n",
    "sentiments = []\n",
    "for doc in documents:\n",
    "    sentence = TextBlob(doc)\n",
    "    sentiment = sentence.sentiment\n",
    "    if sentiment.polarity > 0:\n",
    "        sentiments.append(\"Positive statement\")\n",
    "    elif sentiment.polarity < 0:\n",
    "        sentiments.append(\"Negative statement\")\n",
    "    else:\n",
    "        sentiments.append(\"Neutral statement\")"
   ]
  },
  {
   "cell_type": "code",
   "execution_count": 82,
   "metadata": {},
   "outputs": [
    {
     "data": {
      "text/plain": [
       "Text(0.5, 1.0, 'News Sentiment')"
      ]
     },
     "execution_count": 82,
     "metadata": {},
     "output_type": "execute_result"
    },
    {
     "data": {
      "image/png": "[encoded data removed]",
      "text/plain": [
       "<Figure size 720x576 with 1 Axes>"
      ]
     },
     "metadata": {
      "needs_background": "light"
     },
     "output_type": "display_data"
    }
   ],
   "source": [
    "# Bar plot of positive, negative and neutral news\n",
    "plt.figure(figsize=(10,8))\n",
    "sns.countplot(sentiments)\n",
    "plt.title(\"News Sentiment\",fontsize=18)"
   ]
  },
  {
   "cell_type": "code",
   "execution_count": null,
   "metadata": {},
   "outputs": [],
   "source": []
  }
 ],
 "metadata": {
  "kernelspec": {
   "display_name": "Python 3.7.10 ('data-science')",
   "language": "python",
   "name": "python3"
  },
  "language_info": {
   "codemirror_mode": {
    "name": "ipython",
    "version": 3
   },
   "file_extension": ".py",
   "mimetype": "text/x-python",
   "name": "python",
   "nbconvert_exporter": "python",
   "pygments_lexer": "ipython3",
   "version": "3.7.10"
  },
  "vscode": {
   "interpreter": {
    "hash": "1ba2b7840eef77421e06f337bfc5ba96d44c69d7e81c0f8040b4451e2c00e338"
   }
  }
 },
 "nbformat": 4,
 "nbformat_minor": 4
}
