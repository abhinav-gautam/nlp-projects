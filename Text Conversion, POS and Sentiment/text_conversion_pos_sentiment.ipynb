{
 "cells": [
  {
   "cell_type": "markdown",
   "metadata": {},
   "source": [
    "# Text Conversion, POS and Sentiment\n"
   ]
  },
  {
   "cell_type": "code",
   "execution_count": 2,
   "metadata": {},
   "outputs": [],
   "source": [
    "from textblob import TextBlob\n",
    "from textblob import Word"
   ]
  },
  {
   "cell_type": "code",
   "execution_count": 62,
   "metadata": {},
   "outputs": [
    {
     "name": "stdout",
     "output_type": "stream",
     "text": [
      "Enter Singular - ox\n",
      "Plural - oxen\n",
      "Enter Plural - wives\n",
      "Singular - wife\n"
     ]
    }
   ],
   "source": [
    "# Singular to plural\n",
    "singluar = input(\"Enter Singular - \")\n",
    "print(\"Plural - \"+Word(singluar).pluralize())\n",
    "\n",
    "# Plural to singular\n",
    "plural = input(\"Enter Plural - \")\n",
    "print(\"Singular - \"+Word(plural).singularize())"
   ]
  },
  {
   "cell_type": "code",
   "execution_count": 67,
   "metadata": {},
   "outputs": [
    {
     "name": "stdout",
     "output_type": "stream",
     "text": [
      "Enter Sentence - NLP is great, I like learning it.\n",
      "POS tags:\n",
      "NLP - NNP\n",
      "is - VBZ\n",
      "great - JJ\n",
      "I - PRP\n",
      "like - VBP\n",
      "learning - VBG\n",
      "it - PRP\n"
     ]
    }
   ],
   "source": [
    "# Parts of speech in sentence\n",
    "sentence = TextBlob(input(\"Enter Sentence - \"))\n",
    "print('POS tags:')\n",
    "for word,tag in sentence.pos_tags:\n",
    "    print(word+' - '+tag)"
   ]
  },
  {
   "cell_type": "code",
   "execution_count": 75,
   "metadata": {},
   "outputs": [
    {
     "name": "stdout",
     "output_type": "stream",
     "text": [
      "Enter Sentence - NLP is great, I like learning it.\n",
      "Sentiment:\n",
      "Polarity: 0.8\n",
      "Subjectivity: 0.75\n",
      "Positive statement\n"
     ]
    }
   ],
   "source": [
    "# Sentiment of sentence\n",
    "sentence = TextBlob(input(\"Enter Sentence - \"))\n",
    "sentiment = sentence.sentiment\n",
    "print(\"Sentiment:\")\n",
    "print(\"Polarity: \"+str(sentiment.polarity))\n",
    "print(\"Subjectivity: \"+str(sentiment.subjectivity))\n",
    "if sentiment.polarity > 0:\n",
    "    print(\"Positive statement\")\n",
    "elif sentiment.polarity < 0:\n",
    "    print(\"Negative statement\")\n",
    "else:\n",
    "    print(\"Neutral statement\")"
   ]
  }
 ],
 "metadata": {
  "kernelspec": {
   "display_name": "Python 3.7.10 ('data-science')",
   "language": "python",
   "name": "python3"
  },
  "language_info": {
   "codemirror_mode": {
    "name": "ipython",
    "version": 3
   },
   "file_extension": ".py",
   "mimetype": "text/x-python",
   "name": "python",
   "nbconvert_exporter": "python",
   "pygments_lexer": "ipython3",
   "version": "3.7.10"
  },
  "vscode": {
   "interpreter": {
    "hash": "1ba2b7840eef77421e06f337bfc5ba96d44c69d7e81c0f8040b4451e2c00e338"
   }
  }
 },
 "nbformat": 4,
 "nbformat_minor": 4
}
