{
 "cells": [
  {
   "cell_type": "markdown",
   "metadata": {},
   "source": [
    "# Reuter 50 50 Dataset"
   ]
  },
  {
   "cell_type": "code",
   "execution_count": 97,
   "metadata": {},
   "outputs": [],
   "source": [
    "import os \n",
    "import numpy as np\n",
    "import pandas as pd\n",
    "import warnings\n",
    "import nltk\n",
    "warnings.filterwarnings('ignore')"
   ]
  },
  {
   "cell_type": "code",
   "execution_count": 98,
   "metadata": {},
   "outputs": [],
   "source": [
    "train_path = \"C50/C50train/\"\n",
    "test_path = \"C50/C50test/\""
   ]
  },
  {
   "cell_type": "code",
   "execution_count": 99,
   "metadata": {},
   "outputs": [],
   "source": [
    "X_train = np.array([])\n",
    "y_train = []\n",
    "X_test = np.array([])\n",
    "y_test = []"
   ]
  },
  {
   "cell_type": "code",
   "execution_count": 100,
   "metadata": {},
   "outputs": [],
   "source": [
    "train_authors = os.listdir(train_path);\n",
    "test_authors = os.listdir(test_path);"
   ]
  },
  {
   "cell_type": "code",
   "execution_count": 101,
   "metadata": {},
   "outputs": [],
   "source": [
    "def get_data(authors,path,X,y):\n",
    "    for auth in authors:\n",
    "        files = os.listdir(path+auth+'/');\n",
    "        tmpX, tmpy = np.array([]),[]\n",
    "        for file in files:\n",
    "            f = open(path+auth+'/'+file,'r')\n",
    "            data = f.read().replace('\\n',' ')\n",
    "            tmpX = np.append(tmpX,data)\n",
    "            tmpy = tmpy + [auth]\n",
    "            f.close()\n",
    "        X = np.append(X,tmpX)\n",
    "        y = y + tmpy\n",
    "    return (X,y)"
   ]
  },
  {
   "cell_type": "code",
   "execution_count": 102,
   "metadata": {},
   "outputs": [],
   "source": [
    "X_train, y_train = get_data(train_authors,train_path,X_train,y_train)\n",
    "X_test, y_test = get_data(test_authors,test_path,X_test,y_test)"
   ]
  },
  {
   "cell_type": "code",
   "execution_count": 103,
   "metadata": {},
   "outputs": [],
   "source": [
    "X_train = pd.Series(X_train)\n",
    "X_test = pd.Series(X_test)"
   ]
  },
  {
   "cell_type": "code",
   "execution_count": 104,
   "metadata": {},
   "outputs": [
    {
     "data": {
      "text/plain": [
       "0    The Internet may be overflowing with new techn...\n",
       "1    The U.S. Postal Service announced Wednesday a ...\n",
       "2    Elementary school students with access to the ...\n",
       "3    An influential Internet organisation has backe...\n",
       "4    An influential Internet organisation has backe...\n",
       "dtype: object"
      ]
     },
     "execution_count": 104,
     "metadata": {},
     "output_type": "execute_result"
    }
   ],
   "source": [
    "X_train.head()"
   ]
  },
  {
   "cell_type": "code",
   "execution_count": 91,
   "metadata": {},
   "outputs": [],
   "source": [
    "from nltk import TreebankWordTokenizer"
   ]
  },
  {
   "cell_type": "code",
   "execution_count": 92,
   "metadata": {},
   "outputs": [],
   "source": [
    "from sklearn.feature_extraction.text import CountVectorizer\n",
    "cv = CountVectorizer()"
   ]
  },
  {
   "cell_type": "code",
   "execution_count": 93,
   "metadata": {},
   "outputs": [
    {
     "data": {
      "text/plain": [
       "CountVectorizer(analyzer='word', binary=False, decode_error='strict',\n",
       "                dtype=<class 'numpy.int64'>, encoding='utf-8', input='content',\n",
       "                lowercase=True, max_df=0.5, max_features=None, min_df=2,\n",
       "                ngram_range=(1, 2), preprocessor=None, stop_words='english',\n",
       "                strip_accents=None, token_pattern='(?u)\\\\b\\\\w\\\\w+\\\\b',\n",
       "                tokenizer=<bound method TreebankWordTokenizer.tokenize of <nltk.tokenize.treebank.TreebankWordTokenizer object at 0x000002C0CB446FC8>>,\n",
       "                vocabulary=None)"
      ]
     },
     "execution_count": 93,
     "metadata": {},
     "output_type": "execute_result"
    }
   ],
   "source": [
    "tokenizer = TreebankWordTokenizer()\n",
    "cv.set_params(tokenizer=tokenizer.tokenize)\n",
    "cv.set_params(stop_words='english')\n",
    "cv.set_params(ngram_range=(1,2))\n",
    "cv.set_params(max_df=0.5)\n",
    "cv.set_params(min_df=2)"
   ]
  },
  {
   "cell_type": "code",
   "execution_count": 111,
   "metadata": {},
   "outputs": [
    {
     "data": {
      "text/plain": [
       "CountVectorizer(analyzer='word', binary=False, decode_error='strict',\n",
       "                dtype=<class 'numpy.int64'>, encoding='utf-8', input='content',\n",
       "                lowercase=True, max_df=0.5, max_features=None, min_df=2,\n",
       "                ngram_range=(1, 2), preprocessor=None, stop_words='english',\n",
       "                strip_accents=None, token_pattern='(?u)\\\\b\\\\w\\\\w+\\\\b',\n",
       "                tokenizer=<bound method TreebankWordTokenizer.tokenize of <nltk.tokenize.treebank.TreebankWordTokenizer object at 0x000002C0CB446FC8>>,\n",
       "                vocabulary=None)"
      ]
     },
     "execution_count": 111,
     "metadata": {},
     "output_type": "execute_result"
    }
   ],
   "source": [
    "cv.fit(X_train)"
   ]
  },
  {
   "cell_type": "code",
   "execution_count": 112,
   "metadata": {},
   "outputs": [
    {
     "data": {
      "text/plain": [
       "<5000x447387 sparse matrix of type '<class 'numpy.int64'>'\n",
       "\twith 2540512 stored elements in Compressed Sparse Row format>"
      ]
     },
     "execution_count": 112,
     "metadata": {},
     "output_type": "execute_result"
    }
   ],
   "source": [
    "X_train = cv.transform(X_train)\n",
    "X_train"
   ]
  },
  {
   "cell_type": "code",
   "execution_count": 113,
   "metadata": {},
   "outputs": [
    {
     "data": {
      "text/plain": [
       "<5000x447387 sparse matrix of type '<class 'numpy.int64'>'\n",
       "\twith 1651440 stored elements in Compressed Sparse Row format>"
      ]
     },
     "execution_count": 113,
     "metadata": {},
     "output_type": "execute_result"
    }
   ],
   "source": [
    "X_test = cv.transform(X_test)\n",
    "X_test"
   ]
  },
  {
   "cell_type": "code",
   "execution_count": 80,
   "metadata": {},
   "outputs": [],
   "source": [
    "from sklearn.naive_bayes import MultinomialNB\n",
    "nb = MultinomialNB()"
   ]
  },
  {
   "cell_type": "code",
   "execution_count": 81,
   "metadata": {},
   "outputs": [
    {
     "data": {
      "text/plain": [
       "MultinomialNB(alpha=1.0, class_prior=None, fit_prior=True)"
      ]
     },
     "execution_count": 81,
     "metadata": {},
     "output_type": "execute_result"
    }
   ],
   "source": [
    "nb.fit(X_train.toarray(),y_train)"
   ]
  },
  {
   "cell_type": "code",
   "execution_count": 82,
   "metadata": {},
   "outputs": [],
   "source": [
    "pred = nb.predict(X_test)"
   ]
  },
  {
   "cell_type": "code",
   "execution_count": 83,
   "metadata": {},
   "outputs": [],
   "source": [
    "from sklearn.metrics import classification_report,accuracy_score"
   ]
  },
  {
   "cell_type": "code",
   "execution_count": 84,
   "metadata": {},
   "outputs": [
    {
     "name": "stdout",
     "output_type": "stream",
     "text": [
      "                   precision    recall  f1-score   support\n",
      "\n",
      "    AaronPressman       0.90      0.88      0.89        50\n",
      "       AlanCrosby       0.96      0.50      0.66        50\n",
      "   AlexanderSmith       0.67      0.52      0.58        50\n",
      "  BenjaminKangLim       0.52      0.30      0.38        50\n",
      "    BernardHickey       0.91      0.58      0.71        50\n",
      "      BradDorfman       0.62      0.92      0.74        50\n",
      " DarrenSchuettler       0.38      0.28      0.32        50\n",
      "      DavidLawder       0.39      0.28      0.33        50\n",
      "    EdnaFernandes       1.00      0.40      0.57        50\n",
      "      EricAuchard       0.45      0.50      0.48        50\n",
      "   FumikoFujisaki       0.93      1.00      0.96        50\n",
      "   GrahamEarnshaw       0.69      0.86      0.77        50\n",
      " HeatherScoffield       0.35      0.42      0.38        50\n",
      "       JanLopatka       0.74      0.52      0.61        50\n",
      "    JaneMacartney       0.21      0.42      0.28        50\n",
      "     JimGilchrist       0.94      1.00      0.97        50\n",
      "   JoWinterbottom       0.82      0.92      0.87        50\n",
      "         JoeOrtiz       0.58      0.72      0.64        50\n",
      "     JohnMastrini       0.51      0.82      0.63        50\n",
      "     JonathanBirt       0.91      0.80      0.85        50\n",
      "      KarlPenhaul       0.94      1.00      0.97        50\n",
      "        KeithWeir       0.84      0.92      0.88        50\n",
      "   KevinDrawbaugh       0.89      0.78      0.83        50\n",
      "    KevinMorrison       0.57      0.80      0.67        50\n",
      "    KirstinRidley       0.87      0.68      0.76        50\n",
      "KouroshKarimkhany       0.93      0.86      0.90        50\n",
      "        LydiaZajc       1.00      0.66      0.80        50\n",
      "   LynneO'Donnell       0.87      0.80      0.83        50\n",
      "  LynnleyBrowning       0.88      1.00      0.93        50\n",
      "  MarcelMichelson       0.67      0.74      0.70        50\n",
      "     MarkBendeich       0.85      0.56      0.67        50\n",
      "       MartinWolk       0.88      0.58      0.70        50\n",
      "     MatthewBunce       1.00      0.94      0.97        50\n",
      "    MichaelConnor       0.89      0.84      0.87        50\n",
      "       MureDickie       0.42      0.38      0.40        50\n",
      "        NickLouth       0.72      0.98      0.83        50\n",
      "  PatriciaCommins       0.80      0.80      0.80        50\n",
      "    PeterHumphrey       0.38      0.88      0.53        50\n",
      "       PierreTran       0.62      0.58      0.60        50\n",
      "       RobinSidel       0.94      0.88      0.91        50\n",
      "     RogerFillion       0.95      0.82      0.88        50\n",
      "      SamuelPerry       0.60      0.54      0.57        50\n",
      "     SarahDavison       0.51      0.58      0.54        50\n",
      "      ScottHillis       0.22      0.14      0.17        50\n",
      "      SimonCowell       0.67      0.78      0.72        50\n",
      "         TanEeLyn       0.33      0.06      0.10        50\n",
      "   TheresePoletti       0.57      0.82      0.67        50\n",
      "       TimFarrand       0.69      0.82      0.75        50\n",
      "       ToddNissen       0.37      0.38      0.37        50\n",
      "     WilliamKazer       0.37      0.28      0.32        50\n",
      "\n",
      "         accuracy                           0.67      2500\n",
      "        macro avg       0.69      0.67      0.67      2500\n",
      "     weighted avg       0.69      0.67      0.67      2500\n",
      "\n",
      "Accuracy: 0.6704\n"
     ]
    }
   ],
   "source": [
    "print(classification_report(y_test,pred))\n",
    "print(\"Accuracy:\",accuracy_score(y_test,pred))"
   ]
  }
 ],
 "metadata": {
  "kernelspec": {
   "display_name": "Python 3",
   "language": "python",
   "name": "python3"
  },
  "language_info": {
   "codemirror_mode": {
    "name": "ipython",
    "version": 3
   },
   "file_extension": ".py",
   "mimetype": "text/x-python",
   "name": "python",
   "nbconvert_exporter": "python",
   "pygments_lexer": "ipython3",
   "version": "3.7.4"
  }
 },
 "nbformat": 4,
 "nbformat_minor": 2
}
