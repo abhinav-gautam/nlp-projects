{
 "cells": [
  {
   "cell_type": "markdown",
   "metadata": {},
   "source": [
    "# Reuter 50 50 Dataset"
   ]
  },
  {
   "cell_type": "code",
   "execution_count": 23,
   "metadata": {},
   "outputs": [],
   "source": [
    "import os \n",
    "import numpy as np\n",
    "import pandas as pd\n",
    "import warnings\n",
    "import nltk\n",
    "warnings.filterwarnings('ignore')"
   ]
  },
  {
   "cell_type": "code",
   "execution_count": 24,
   "metadata": {},
   "outputs": [],
   "source": [
    "train_path = \"C50/C50train/\"\n",
    "test_path = \"C50/C50test/\""
   ]
  },
  {
   "cell_type": "code",
   "execution_count": 25,
   "metadata": {},
   "outputs": [],
   "source": [
    "X_train = np.array([])\n",
    "y_train = []\n",
    "X_test = np.array([])\n",
    "y_test = []"
   ]
  },
  {
   "cell_type": "code",
   "execution_count": 26,
   "metadata": {},
   "outputs": [],
   "source": [
    "train_authors = os.listdir(train_path);\n",
    "test_authors = os.listdir(test_path);"
   ]
  },
  {
   "cell_type": "code",
   "execution_count": 27,
   "metadata": {},
   "outputs": [],
   "source": [
    "def get_data(authors,path,X,y):\n",
    "    for auth in authors:\n",
    "        files = os.listdir(path+auth+'/');\n",
    "        tmpX, tmpy = np.array([]),[]\n",
    "        for file in files:\n",
    "            f = open(path+auth+'/'+file,'r')\n",
    "            data = f.read().replace('\\n',' ')\n",
    "            tmpX = np.append(tmpX,data)\n",
    "            tmpy = tmpy + [auth]\n",
    "            f.close()\n",
    "        X = np.append(X,tmpX)\n",
    "        y = y + tmpy\n",
    "    return (X,y)"
   ]
  },
  {
   "cell_type": "code",
   "execution_count": 28,
   "metadata": {},
   "outputs": [],
   "source": [
    "X_train, y_train = get_data(train_authors,train_path,X_train,y_train)\n",
    "X_test, y_test = get_data(test_authors,test_path,X_test,y_test)"
   ]
  },
  {
   "cell_type": "code",
   "execution_count": 29,
   "metadata": {},
   "outputs": [],
   "source": [
    "X_train = pd.Series(X_train)\n",
    "X_test = pd.Series(X_test)"
   ]
  },
  {
   "cell_type": "code",
   "execution_count": 30,
   "metadata": {},
   "outputs": [
    {
     "data": {
      "text/plain": [
       "0    The Internet may be overflowing with new techn...\n",
       "1    The U.S. Postal Service announced Wednesday a ...\n",
       "2    Elementary school students with access to the ...\n",
       "3    An influential Internet organisation has backe...\n",
       "4    An influential Internet organisation has backe...\n",
       "dtype: object"
      ]
     },
     "execution_count": 30,
     "metadata": {},
     "output_type": "execute_result"
    }
   ],
   "source": [
    "X_train.head()"
   ]
  },
  {
   "cell_type": "code",
   "execution_count": 44,
   "metadata": {},
   "outputs": [],
   "source": [
    "from nltk import TreebankWordTokenizer\n",
    "tokenizer = TreebankWordTokenizer()"
   ]
  },
  {
   "cell_type": "code",
   "execution_count": 45,
   "metadata": {},
   "outputs": [],
   "source": [
    "from sklearn.naive_bayes import MultinomialNB\n",
    "nb = MultinomialNB()"
   ]
  },
  {
   "cell_type": "code",
   "execution_count": 46,
   "metadata": {},
   "outputs": [],
   "source": [
    "from sklearn.feature_extraction.text import TfidfVectorizer, TfidfTransformer\n",
    "tfidf = TfidfVectorizer()"
   ]
  },
  {
   "cell_type": "code",
   "execution_count": 47,
   "metadata": {},
   "outputs": [
    {
     "data": {
      "text/plain": [
       "TfidfVectorizer(analyzer='word', binary=False, decode_error='strict',\n",
       "                dtype=<class 'numpy.float64'>, encoding='utf-8',\n",
       "                input='content', lowercase=True, max_df=0.5, max_features=None,\n",
       "                min_df=2, ngram_range=(1, 2), norm='l2', preprocessor=None,\n",
       "                smooth_idf=True, stop_words='english', strip_accents=None,\n",
       "                sublinear_tf=False, token_pattern='(?u)\\\\b\\\\w\\\\w+\\\\b',\n",
       "                tokenizer=<bound method TreebankWordTokenizer.tokenize of <nltk.tokenize.treebank.TreebankWordTokenizer object at 0x0000023261290BC8>>,\n",
       "                use_idf=True, vocabulary=None)"
      ]
     },
     "execution_count": 47,
     "metadata": {},
     "output_type": "execute_result"
    }
   ],
   "source": [
    "tfidf.set_params(tokenizer=tokenizer.tokenize)\n",
    "tfidf.set_params(stop_words='english')\n",
    "tfidf.set_params(ngram_range=(1,2))\n",
    "tfidf.set_params(max_df=0.5)\n",
    "tfidf.set_params(min_df=2)"
   ]
  },
  {
   "cell_type": "code",
   "execution_count": 48,
   "metadata": {},
   "outputs": [
    {
     "data": {
      "text/plain": [
       "TfidfVectorizer(analyzer='word', binary=False, decode_error='strict',\n",
       "                dtype=<class 'numpy.float64'>, encoding='utf-8',\n",
       "                input='content', lowercase=True, max_df=0.5, max_features=None,\n",
       "                min_df=2, ngram_range=(1, 2), norm='l2', preprocessor=None,\n",
       "                smooth_idf=True, stop_words='english', strip_accents=None,\n",
       "                sublinear_tf=False, token_pattern='(?u)\\\\b\\\\w\\\\w+\\\\b',\n",
       "                tokenizer=<bound method TreebankWordTokenizer.tokenize of <nltk.tokenize.treebank.TreebankWordTokenizer object at 0x0000023261290BC8>>,\n",
       "                use_idf=True, vocabulary=None)"
      ]
     },
     "execution_count": 48,
     "metadata": {},
     "output_type": "execute_result"
    }
   ],
   "source": [
    "tfidf.fit(X_train,y_train)"
   ]
  },
  {
   "cell_type": "code",
   "execution_count": 49,
   "metadata": {},
   "outputs": [],
   "source": [
    "X_train = tfidf.transform(X_train)\n",
    "X_test = tfidf.transform(X_test)"
   ]
  },
  {
   "cell_type": "code",
   "execution_count": 50,
   "metadata": {},
   "outputs": [
    {
     "data": {
      "text/plain": [
       "MultinomialNB(alpha=1.0, class_prior=None, fit_prior=True)"
      ]
     },
     "execution_count": 50,
     "metadata": {},
     "output_type": "execute_result"
    }
   ],
   "source": [
    "nb.fit(X_train,y_train)"
   ]
  },
  {
   "cell_type": "code",
   "execution_count": 51,
   "metadata": {},
   "outputs": [],
   "source": [
    "pred = nb.predict(X_test)"
   ]
  },
  {
   "cell_type": "code",
   "execution_count": 52,
   "metadata": {},
   "outputs": [
    {
     "name": "stdout",
     "output_type": "stream",
     "text": [
      "                   precision    recall  f1-score   support\n",
      "\n",
      "    AaronPressman       0.90      0.92      0.91        50\n",
      "       AlanCrosby       0.96      0.52      0.68        50\n",
      "   AlexanderSmith       1.00      0.30      0.46        50\n",
      "  BenjaminKangLim       0.45      0.28      0.35        50\n",
      "    BernardHickey       0.72      0.76      0.74        50\n",
      "      BradDorfman       0.63      0.82      0.71        50\n",
      " DarrenSchuettler       0.42      0.28      0.34        50\n",
      "      DavidLawder       0.45      0.50      0.48        50\n",
      "    EdnaFernandes       0.95      0.38      0.54        50\n",
      "      EricAuchard       0.47      0.42      0.44        50\n",
      "   FumikoFujisaki       0.78      1.00      0.88        50\n",
      "   GrahamEarnshaw       0.66      0.90      0.76        50\n",
      " HeatherScoffield       0.33      0.38      0.35        50\n",
      "       JanLopatka       0.56      0.48      0.52        50\n",
      "    JaneMacartney       0.21      0.22      0.21        50\n",
      "     JimGilchrist       0.78      1.00      0.88        50\n",
      "   JoWinterbottom       0.81      0.94      0.87        50\n",
      "         JoeOrtiz       0.53      0.74      0.62        50\n",
      "     JohnMastrini       0.48      0.66      0.55        50\n",
      "     JonathanBirt       0.88      0.72      0.79        50\n",
      "      KarlPenhaul       0.96      0.98      0.97        50\n",
      "        KeithWeir       0.77      0.88      0.82        50\n",
      "   KevinDrawbaugh       0.80      0.78      0.79        50\n",
      "    KevinMorrison       0.63      0.54      0.58        50\n",
      "    KirstinRidley       0.91      0.60      0.72        50\n",
      "KouroshKarimkhany       0.70      0.80      0.75        50\n",
      "        LydiaZajc       0.98      0.86      0.91        50\n",
      "   LynneO'Donnell       0.83      0.80      0.82        50\n",
      "  LynnleyBrowning       0.77      1.00      0.87        50\n",
      "  MarcelMichelson       0.62      0.78      0.69        50\n",
      "     MarkBendeich       0.86      0.60      0.71        50\n",
      "       MartinWolk       0.80      0.56      0.66        50\n",
      "     MatthewBunce       0.96      0.98      0.97        50\n",
      "    MichaelConnor       0.91      0.86      0.89        50\n",
      "       MureDickie       0.30      0.34      0.32        50\n",
      "        NickLouth       0.63      0.98      0.77        50\n",
      "  PatriciaCommins       0.82      0.64      0.72        50\n",
      "    PeterHumphrey       0.32      0.92      0.48        50\n",
      "       PierreTran       0.74      0.50      0.60        50\n",
      "       RobinSidel       0.95      0.82      0.88        50\n",
      "     RogerFillion       0.89      0.78      0.83        50\n",
      "      SamuelPerry       0.70      0.62      0.66        50\n",
      "     SarahDavison       0.64      0.36      0.46        50\n",
      "      ScottHillis       0.32      0.28      0.30        50\n",
      "      SimonCowell       0.68      0.92      0.78        50\n",
      "         TanEeLyn       0.18      0.04      0.07        50\n",
      "   TheresePoletti       0.64      0.82      0.72        50\n",
      "       TimFarrand       0.62      0.80      0.70        50\n",
      "       ToddNissen       0.38      0.34      0.36        50\n",
      "     WilliamKazer       0.36      0.24      0.29        50\n",
      "\n",
      "         accuracy                           0.65      2500\n",
      "        macro avg       0.67      0.65      0.64      2500\n",
      "     weighted avg       0.67      0.65      0.64      2500\n",
      "\n",
      "Accuracy: 0.6528\n"
     ]
    }
   ],
   "source": [
    "from sklearn.metrics import classification_report,accuracy_score\n",
    "print(classification_report(y_test,pred))\n",
    "print(\"Accuracy:\",accuracy_score(y_test,pred))"
   ]
  },
  {
   "cell_type": "code",
   "execution_count": null,
   "metadata": {},
   "outputs": [],
   "source": []
  }
 ],
 "metadata": {
  "kernelspec": {
   "display_name": "Python 3",
   "language": "python",
   "name": "python3"
  },
  "language_info": {
   "codemirror_mode": {
    "name": "ipython",
    "version": 3
   },
   "file_extension": ".py",
   "mimetype": "text/x-python",
   "name": "python",
   "nbconvert_exporter": "python",
   "pygments_lexer": "ipython3",
   "version": "3.7.4"
  }
 },
 "nbformat": 4,
 "nbformat_minor": 2
}
